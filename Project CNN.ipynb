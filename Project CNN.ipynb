{
 "cells": [
  {
   "cell_type": "markdown",
   "metadata": {},
   "source": [
    "The objective of this project is learn about create a machine learning code to identify images from a pet's gallery\n",
    "mixed with cats and dog photos"
   ]
  },
  {
   "cell_type": "code",
   "execution_count": 1,
   "metadata": {},
   "outputs": [],
   "source": [
    "import numpy as np\n",
    "import pandas as pd\n",
    "import matplotlib as mpl\n",
    "import matplotlib.pyplot as plp\n",
    "import os"
   ]
  },
  {
   "cell_type": "code",
   "execution_count": 2,
   "metadata": {},
   "outputs": [],
   "source": [
    "import tensorflow as tf\n",
    "from tensorflow import keras"
   ]
  },
  {
   "cell_type": "code",
   "execution_count": 3,
   "metadata": {},
   "outputs": [],
   "source": [
    "trainD = \"D:/Nueva carpeta - copia (2)/Udemy/Python Udemy/Data Files/train\"\n",
    "testD = \"D:/Nueva carpeta - copia (2)/Udemy/Python Udemy/Data Files/test\"\n",
    "validation = \"D:/Nueva carpeta - copia (2)/Udemy/Python Udemy/Data Files/validation\""
   ]
  },
  {
   "cell_type": "markdown",
   "metadata": {},
   "source": [
    "Preprocessing\n",
    "\n",
    "As first part of this project, we need to:\n",
    "1- Read the pictures files\n",
    "2- Decode the type files\n",
    "3- Convert into tensors\n",
    "4- Rescale"
   ]
  },
  {
   "cell_type": "code",
   "execution_count": 5,
   "metadata": {},
   "outputs": [],
   "source": [
    "from tensorflow.keras.preprocessing.image import ImageDataGenerator as IDG"
   ]
  },
  {
   "cell_type": "code",
   "execution_count": 10,
   "metadata": {},
   "outputs": [
    {
     "name": "stdout",
     "output_type": "stream",
     "text": [
      "Found 2000 images belonging to 2 classes.\n",
      "Found 1000 images belonging to 2 classes.\n"
     ]
    }
   ],
   "source": [
    "#This section is focused on training data model, choosing a sample from previous called datasets.\n",
    "#In this case a sample of 20 photos. Also this code represents a transformation data through tensorflow library \n",
    "\n",
    "traindatagen = IDG(rescale=1./255)\n",
    "testdatagen = IDG(rescale=1./255)\n",
    "\n",
    "traingen = traindatagen.flow_from_directory(trainD, target_size=(150,150), batch_size = 20, class_mode = \"binary\")\n",
    "validationgen = testdatagen.flow_from_directory(testD, target_size=(150,150), batch_size = 20, class_mode = \"binary\")"
   ]
  },
  {
   "cell_type": "code",
   "execution_count": 9,
   "metadata": {},
   "outputs": [],
   "source": [
    "from tensorflow.keras import layers\n",
    "from tensorflow.keras import models"
   ]
  },
  {
   "cell_type": "code",
   "execution_count": 16,
   "metadata": {},
   "outputs": [
    {
     "name": "stdout",
     "output_type": "stream",
     "text": [
      "Model: \"sequential_5\"\n",
      "_________________________________________________________________\n",
      " Layer (type)                Output Shape              Param #   \n",
      "=================================================================\n",
      " conv2d_10 (Conv2D)          (None, 148, 148, 32)      896       \n",
      "                                                                 \n",
      " max_pooling2d_8 (MaxPooling  (None, 74, 74, 32)       0         \n",
      " 2D)                                                             \n",
      "                                                                 \n",
      " conv2d_11 (Conv2D)          (None, 72, 72, 64)        18496     \n",
      "                                                                 \n",
      " max_pooling2d_9 (MaxPooling  (None, 36, 36, 64)       0         \n",
      " 2D)                                                             \n",
      "                                                                 \n",
      " conv2d_12 (Conv2D)          (None, 34, 34, 128)       73856     \n",
      "                                                                 \n",
      " max_pooling2d_10 (MaxPoolin  (None, 17, 17, 128)      0         \n",
      " g2D)                                                            \n",
      "                                                                 \n",
      " conv2d_13 (Conv2D)          (None, 15, 15, 128)       147584    \n",
      "                                                                 \n",
      " max_pooling2d_11 (MaxPoolin  (None, 7, 7, 128)        0         \n",
      " g2D)                                                            \n",
      "                                                                 \n",
      " flatten_2 (Flatten)         (None, 6272)              0         \n",
      "                                                                 \n",
      " dense_4 (Dense)             (None, 512)               3211776   \n",
      "                                                                 \n",
      " dense_5 (Dense)             (None, 1)                 513       \n",
      "                                                                 \n",
      "=================================================================\n",
      "Total params: 3,453,121\n",
      "Trainable params: 3,453,121\n",
      "Non-trainable params: 0\n",
      "_________________________________________________________________\n"
     ]
    }
   ],
   "source": [
    "#As the intention of this project is realize the process through a neural network, we'll continue\n",
    "#generating a network model with the next characteristics \n",
    "\n",
    "model = models.Sequential()\n",
    "\n",
    "model.add(layers.Conv2D(32, (3,3), activation = \"relu\", input_shape=(150, 150, 3)))\n",
    "model.add(layers.MaxPooling2D((2, 2)))\n",
    "\n",
    "model.add(layers.Conv2D(64, (3,3), activation = \"relu\"))\n",
    "model.add(layers.MaxPooling2D((2, 2)))\n",
    "\n",
    "model.add(layers.Conv2D(128, (3,3), activation = \"relu\"))\n",
    "model.add(layers.MaxPooling2D((2, 2)))\n",
    "\n",
    "model.add(layers.Conv2D(128, (3,3), activation = \"relu\"))\n",
    "model.add(layers.MaxPooling2D((2, 2)))\n",
    "\n",
    "model.add(layers.Flatten())\n",
    "\n",
    "model.add(layers.Dense(512, activation = \"relu\"))\n",
    "model.add(layers.Dense(1, activation = \"sigmoid\"))\n",
    "\n",
    "model.summary()"
   ]
  },
  {
   "cell_type": "code",
   "execution_count": 18,
   "metadata": {},
   "outputs": [],
   "source": [
    "from tensorflow.keras import optimizers\n",
    "\n",
    "model.compile(loss=\"binary_crossentropy\", optimizer = optimizers.RMSprop(learning_rate=1e-4), metrics=[\"acc\"])"
   ]
  },
  {
   "cell_type": "code",
   "execution_count": 20,
   "metadata": {},
   "outputs": [
    {
     "name": "stderr",
     "output_type": "stream",
     "text": [
      "<ipython-input-20-d198d9054cf6>:1: UserWarning: `Model.fit_generator` is deprecated and will be removed in a future version. Please use `Model.fit`, which supports generators.\n",
      "  history = model.fit_generator(traingen, steps_per_epoch=100, epochs = 20, validation_data = validationgen, validation_steps = 50)\n"
     ]
    },
    {
     "name": "stdout",
     "output_type": "stream",
     "text": [
      "Epoch 1/20\n",
      "100/100 [==============================] - 96s 925ms/step - loss: 0.6875 - acc: 0.5360 - val_loss: 0.6726 - val_acc: 0.5760\n",
      "Epoch 2/20\n",
      "100/100 [==============================] - 69s 689ms/step - loss: 0.6508 - acc: 0.6210 - val_loss: 0.6316 - val_acc: 0.6510\n",
      "Epoch 3/20\n",
      "100/100 [==============================] - 69s 690ms/step - loss: 0.6005 - acc: 0.6790 - val_loss: 0.6153 - val_acc: 0.6620\n",
      "Epoch 4/20\n",
      "100/100 [==============================] - 70s 700ms/step - loss: 0.5662 - acc: 0.7060 - val_loss: 0.5812 - val_acc: 0.7150\n",
      "Epoch 5/20\n",
      "100/100 [==============================] - 71s 713ms/step - loss: 0.5303 - acc: 0.7260 - val_loss: 0.6296 - val_acc: 0.6570\n",
      "Epoch 6/20\n",
      "100/100 [==============================] - 76s 758ms/step - loss: 0.5069 - acc: 0.7470 - val_loss: 0.5462 - val_acc: 0.7190\n",
      "Epoch 7/20\n",
      "100/100 [==============================] - 86s 863ms/step - loss: 0.4874 - acc: 0.7620 - val_loss: 0.5854 - val_acc: 0.6980\n",
      "Epoch 8/20\n",
      "100/100 [==============================] - 87s 869ms/step - loss: 0.4639 - acc: 0.7820 - val_loss: 0.5461 - val_acc: 0.7330\n",
      "Epoch 9/20\n",
      "100/100 [==============================] - 101s 1s/step - loss: 0.4406 - acc: 0.7990 - val_loss: 0.5371 - val_acc: 0.7380\n",
      "Epoch 10/20\n",
      "100/100 [==============================] - 81s 810ms/step - loss: 0.4073 - acc: 0.8285 - val_loss: 0.5826 - val_acc: 0.7120\n",
      "Epoch 11/20\n",
      "100/100 [==============================] - 78s 784ms/step - loss: 0.3832 - acc: 0.8290 - val_loss: 0.5454 - val_acc: 0.7390\n",
      "Epoch 12/20\n",
      "100/100 [==============================] - 80s 797ms/step - loss: 0.3648 - acc: 0.8375 - val_loss: 0.5510 - val_acc: 0.7230\n",
      "Epoch 13/20\n",
      "100/100 [==============================] - 78s 781ms/step - loss: 0.3380 - acc: 0.8570 - val_loss: 0.5683 - val_acc: 0.7290\n",
      "Epoch 14/20\n",
      "100/100 [==============================] - 76s 756ms/step - loss: 0.3176 - acc: 0.8655 - val_loss: 0.6130 - val_acc: 0.7160\n",
      "Epoch 15/20\n",
      "100/100 [==============================] - 79s 787ms/step - loss: 0.2865 - acc: 0.8810 - val_loss: 0.6050 - val_acc: 0.7320\n",
      "Epoch 16/20\n",
      "100/100 [==============================] - 77s 769ms/step - loss: 0.2706 - acc: 0.8835 - val_loss: 0.6642 - val_acc: 0.7100\n",
      "Epoch 17/20\n",
      "100/100 [==============================] - 80s 802ms/step - loss: 0.2553 - acc: 0.8985 - val_loss: 0.5994 - val_acc: 0.7330\n",
      "Epoch 18/20\n",
      "100/100 [==============================] - 75s 753ms/step - loss: 0.2311 - acc: 0.9115 - val_loss: 0.6052 - val_acc: 0.7310\n",
      "Epoch 19/20\n",
      "100/100 [==============================] - 87s 870ms/step - loss: 0.2122 - acc: 0.9195 - val_loss: 0.7291 - val_acc: 0.7030\n",
      "Epoch 20/20\n",
      "100/100 [==============================] - 79s 792ms/step - loss: 0.1956 - acc: 0.9210 - val_loss: 0.6375 - val_acc: 0.7510\n"
     ]
    }
   ],
   "source": [
    "history = model.fit_generator(traingen, steps_per_epoch=100, epochs = 20, validation_data = validationgen, validation_steps = 50)"
   ]
  },
  {
   "cell_type": "code",
   "execution_count": 24,
   "metadata": {},
   "outputs": [
    {
     "data": {
      "image/png": "[encoded data removed]",
      "text/plain": [
       "<Figure size 576x360 with 1 Axes>"
      ]
     },
     "metadata": {
      "needs_background": "light"
     },
     "output_type": "display_data"
    }
   ],
   "source": [
    "pd.DataFrame(history.history).plot(figsize=(8, 5))\n",
    "plp.grid(True)\n",
    "plp.gca().set_ylim(0, 1)\n",
    "plp.show()"
   ]
  },
  {
   "cell_type": "code",
   "execution_count": 25,
   "metadata": {},
   "outputs": [],
   "source": [
    "model.save(\"model.h5\")"
   ]
  },
  {
   "cell_type": "code",
   "execution_count": 26,
   "metadata": {},
   "outputs": [],
   "source": [
    "from tensorflow.keras import backend as K\n",
    "K.clear_session()\n",
    "del model"
   ]
  },
  {
   "cell_type": "code",
   "execution_count": null,
   "metadata": {},
   "outputs": [],
   "source": []
  }
 ],
 "metadata": {
  "kernelspec": {
   "display_name": "Python 3",
   "language": "python",
   "name": "python3"
  },
  "language_info": {
   "codemirror_mode": {
    "name": "ipython",
    "version": 3
   },
   "file_extension": ".py",
   "mimetype": "text/x-python",
   "name": "python",
   "nbconvert_exporter": "python",
   "pygments_lexer": "ipython3",
   "version": "3.8.3"
  }
 },
 "nbformat": 4,
 "nbformat_minor": 4
}
