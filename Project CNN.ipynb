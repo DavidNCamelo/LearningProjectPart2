{
 "cells": [
  {
   "cell_type": "markdown",
   "metadata": {},
   "source": [
    "The objective of this project is learn about create a machine learning code to identify images from a pet's gallery\n",
    "mixed with cats and dog photos"
   ]
  },
  {
   "cell_type": "code",
   "execution_count": 1,
   "metadata": {},
   "outputs": [],
   "source": [
    "import numpy as np\n",
    "import pandas as pd\n",
    "import matplotlib as mpl\n",
    "import matplotlib.pyplot as plp\n",
    "import os"
   ]
  },
  {
   "cell_type": "code",
   "execution_count": 2,
   "metadata": {},
   "outputs": [],
   "source": [
    "import tensorflow as tf\n",
    "from tensorflow import keras"
   ]
  },
  {
   "cell_type": "code",
   "execution_count": 3,
   "metadata": {},
   "outputs": [],
   "source": [
    "trainD = \"D:/Nueva carpeta - copia (2)/Udemy/Python Udemy/Data Files/train\"\n",
    "testD = \"D:/Nueva carpeta - copia (2)/Udemy/Python Udemy/Data Files/test\"\n",
    "validation = \"D:/Nueva carpeta - copia (2)/Udemy/Python Udemy/Data Files/validation\""
   ]
  },
  {
   "cell_type": "markdown",
   "metadata": {},
   "source": [
    "Preprocessing\n",
    "\n",
    "As first part of this project, we need to:\n",
    "1- Read the pictures files\n",
    "2- Decode the type files\n",
    "3- Convert into tensors\n",
    "4- Rescale"
   ]
  },
  {
   "cell_type": "code",
   "execution_count": 4,
   "metadata": {},
   "outputs": [],
   "source": [
    "from tensorflow.keras.preprocessing.image import ImageDataGenerator as IDG"
   ]
  },
  {
   "cell_type": "code",
   "execution_count": 5,
   "metadata": {},
   "outputs": [
    {
     "name": "stdout",
     "output_type": "stream",
     "text": [
      "Found 2000 images belonging to 2 classes.\n",
      "Found 1000 images belonging to 2 classes.\n"
     ]
    }
   ],
   "source": [
    "#This section is focused on training data model, choosing a sample from previous called datasets.\n",
    "#In this case a sample of 20 photos. Also this code represents a transformation data through tensorflow library \n",
    "\n",
    "traindatagen = IDG(rescale=1./255)\n",
    "testdatagen = IDG(rescale=1./255)\n",
    "\n",
    "traingen = traindatagen.flow_from_directory(trainD, target_size=(150,150), batch_size = 20, class_mode = \"binary\")\n",
    "validationgen = testdatagen.flow_from_directory(testD, target_size=(150,150), batch_size = 20, class_mode = \"binary\")"
   ]
  },
  {
   "cell_type": "code",
   "execution_count": 6,
   "metadata": {},
   "outputs": [],
   "source": [
    "from tensorflow.keras import layers\n",
    "from tensorflow.keras import models"
   ]
  },
  {
   "cell_type": "code",
   "execution_count": 7,
   "metadata": {},
   "outputs": [
    {
     "name": "stdout",
     "output_type": "stream",
     "text": [
      "Model: \"sequential\"\n",
      "_________________________________________________________________\n",
      " Layer (type)                Output Shape              Param #   \n",
      "=================================================================\n",
      " conv2d (Conv2D)             (None, 148, 148, 32)      896       \n",
      "                                                                 \n",
      " max_pooling2d (MaxPooling2D  (None, 74, 74, 32)       0         \n",
      " )                                                               \n",
      "                                                                 \n",
      " conv2d_1 (Conv2D)           (None, 72, 72, 64)        18496     \n",
      "                                                                 \n",
      " max_pooling2d_1 (MaxPooling  (None, 36, 36, 64)       0         \n",
      " 2D)                                                             \n",
      "                                                                 \n",
      " conv2d_2 (Conv2D)           (None, 34, 34, 128)       73856     \n",
      "                                                                 \n",
      " max_pooling2d_2 (MaxPooling  (None, 17, 17, 128)      0         \n",
      " 2D)                                                             \n",
      "                                                                 \n",
      " conv2d_3 (Conv2D)           (None, 15, 15, 128)       147584    \n",
      "                                                                 \n",
      " max_pooling2d_3 (MaxPooling  (None, 7, 7, 128)        0         \n",
      " 2D)                                                             \n",
      "                                                                 \n",
      " flatten (Flatten)           (None, 6272)              0         \n",
      "                                                                 \n",
      " dense (Dense)               (None, 512)               3211776   \n",
      "                                                                 \n",
      " dense_1 (Dense)             (None, 1)                 513       \n",
      "                                                                 \n",
      "=================================================================\n",
      "Total params: 3,453,121\n",
      "Trainable params: 3,453,121\n",
      "Non-trainable params: 0\n",
      "_________________________________________________________________\n"
     ]
    }
   ],
   "source": [
    "#As the intention of this project is realize the process through a neural network, we'll continue\n",
    "#generating a network model with the next characteristics \n",
    "\n",
    "model = models.Sequential()\n",
    "\n",
    "model.add(layers.Conv2D(32, (3,3), activation = \"relu\", input_shape=(150, 150, 3)))\n",
    "model.add(layers.MaxPooling2D((2, 2)))\n",
    "\n",
    "model.add(layers.Conv2D(64, (3,3), activation = \"relu\"))\n",
    "model.add(layers.MaxPooling2D((2, 2)))\n",
    "\n",
    "model.add(layers.Conv2D(128, (3,3), activation = \"relu\"))\n",
    "model.add(layers.MaxPooling2D((2, 2)))\n",
    "\n",
    "model.add(layers.Conv2D(128, (3,3), activation = \"relu\"))\n",
    "model.add(layers.MaxPooling2D((2, 2)))\n",
    "\n",
    "model.add(layers.Flatten())\n",
    "\n",
    "model.add(layers.Dense(512, activation = \"relu\"))\n",
    "model.add(layers.Dense(1, activation = \"sigmoid\"))\n",
    "\n",
    "model.summary()"
   ]
  },
  {
   "cell_type": "code",
   "execution_count": 8,
   "metadata": {},
   "outputs": [],
   "source": [
    "from tensorflow.keras import optimizers\n",
    "\n",
    "model.compile(loss=\"binary_crossentropy\", optimizer = optimizers.RMSprop(learning_rate=1e-4), metrics=[\"acc\"])"
   ]
  },
  {
   "cell_type": "code",
   "execution_count": 9,
   "metadata": {},
   "outputs": [
    {
     "name": "stderr",
     "output_type": "stream",
     "text": [
      "<ipython-input-9-d198d9054cf6>:1: UserWarning: `Model.fit_generator` is deprecated and will be removed in a future version. Please use `Model.fit`, which supports generators.\n",
      "  history = model.fit_generator(traingen, steps_per_epoch=100, epochs = 20, validation_data = validationgen, validation_steps = 50)\n"
     ]
    },
    {
     "name": "stdout",
     "output_type": "stream",
     "text": [
      "Epoch 1/20\n",
      "100/100 [==============================] - 130s 1s/step - loss: 0.6965 - acc: 0.5230 - val_loss: 0.6921 - val_acc: 0.5000\n",
      "Epoch 2/20\n",
      "100/100 [==============================] - 98s 979ms/step - loss: 0.6589 - acc: 0.6055 - val_loss: 0.6505 - val_acc: 0.6120\n",
      "Epoch 3/20\n",
      "100/100 [==============================] - 98s 981ms/step - loss: 0.6037 - acc: 0.6730 - val_loss: 0.6104 - val_acc: 0.6860\n",
      "Epoch 4/20\n",
      "100/100 [==============================] - 97s 965ms/step - loss: 0.5631 - acc: 0.7100 - val_loss: 0.5970 - val_acc: 0.6930\n",
      "Epoch 5/20\n",
      "100/100 [==============================] - 84s 836ms/step - loss: 0.5380 - acc: 0.7200 - val_loss: 0.5894 - val_acc: 0.6870\n",
      "Epoch 6/20\n",
      "100/100 [==============================] - 85s 849ms/step - loss: 0.5082 - acc: 0.7570 - val_loss: 0.5766 - val_acc: 0.7080\n",
      "Epoch 7/20\n",
      "100/100 [==============================] - 95s 948ms/step - loss: 0.4825 - acc: 0.7705 - val_loss: 0.5773 - val_acc: 0.6990\n",
      "Epoch 8/20\n",
      "100/100 [==============================] - 98s 978ms/step - loss: 0.4504 - acc: 0.7940 - val_loss: 0.5748 - val_acc: 0.7010\n",
      "Epoch 9/20\n",
      "100/100 [==============================] - 74s 739ms/step - loss: 0.4280 - acc: 0.7990 - val_loss: 0.5567 - val_acc: 0.7180\n",
      "Epoch 10/20\n",
      "100/100 [==============================] - 72s 715ms/step - loss: 0.3994 - acc: 0.8165 - val_loss: 0.5926 - val_acc: 0.7050\n",
      "Epoch 11/20\n",
      "100/100 [==============================] - 79s 785ms/step - loss: 0.3727 - acc: 0.8320 - val_loss: 0.5620 - val_acc: 0.7360\n",
      "Epoch 12/20\n",
      "100/100 [==============================] - 75s 747ms/step - loss: 0.3493 - acc: 0.8430 - val_loss: 0.5778 - val_acc: 0.7110\n",
      "Epoch 13/20\n",
      "100/100 [==============================] - 85s 853ms/step - loss: 0.3260 - acc: 0.8540 - val_loss: 0.5564 - val_acc: 0.7400\n",
      "Epoch 14/20\n",
      "100/100 [==============================] - 88s 882ms/step - loss: 0.3049 - acc: 0.8780 - val_loss: 0.5551 - val_acc: 0.7240\n",
      "Epoch 15/20\n",
      "100/100 [==============================] - 88s 882ms/step - loss: 0.2771 - acc: 0.8885 - val_loss: 0.5727 - val_acc: 0.7520\n",
      "Epoch 16/20\n",
      "100/100 [==============================] - 72s 719ms/step - loss: 0.2635 - acc: 0.8950 - val_loss: 0.6159 - val_acc: 0.7140\n",
      "Epoch 17/20\n",
      "100/100 [==============================] - 68s 684ms/step - loss: 0.2434 - acc: 0.9005 - val_loss: 0.5934 - val_acc: 0.7300\n",
      "Epoch 18/20\n",
      "100/100 [==============================] - 71s 712ms/step - loss: 0.2194 - acc: 0.9190 - val_loss: 0.6234 - val_acc: 0.7280\n",
      "Epoch 19/20\n",
      "100/100 [==============================] - 69s 688ms/step - loss: 0.1914 - acc: 0.9295 - val_loss: 0.6444 - val_acc: 0.7340\n",
      "Epoch 20/20\n",
      "100/100 [==============================] - 69s 693ms/step - loss: 0.1794 - acc: 0.9360 - val_loss: 0.6980 - val_acc: 0.7330\n"
     ]
    }
   ],
   "source": [
    "history = model.fit_generator(traingen, steps_per_epoch=100, epochs = 20, validation_data = validationgen, validation_steps = 50)"
   ]
  },
  {
   "cell_type": "code",
   "execution_count": 10,
   "metadata": {},
   "outputs": [
    {
     "data": {
      "image/png": "[encoded data removed]",
      "text/plain": [
       "<Figure size 576x360 with 1 Axes>"
      ]
     },
     "metadata": {
      "needs_background": "light"
     },
     "output_type": "display_data"
    }
   ],
   "source": [
    "pd.DataFrame(history.history).plot(figsize=(8, 5))\n",
    "plp.grid(True)\n",
    "plp.gca().set_ylim(0, 1)\n",
    "plp.show()"
   ]
  },
  {
   "cell_type": "code",
   "execution_count": 11,
   "metadata": {},
   "outputs": [],
   "source": [
    "model.save(\"model.h5\")"
   ]
  },
  {
   "cell_type": "code",
   "execution_count": 12,
   "metadata": {},
   "outputs": [],
   "source": [
    "from tensorflow.keras import backend as K\n",
    "K.clear_session()\n",
    "del model"
   ]
  },
  {
   "cell_type": "code",
   "execution_count": 14,
   "metadata": {},
   "outputs": [
    {
     "name": "stdout",
     "output_type": "stream",
     "text": [
      "Found 2000 images belonging to 2 classes.\n",
      "Found 1000 images belonging to 2 classes.\n"
     ]
    }
   ],
   "source": [
    "#We create anothe data transformation to see how the results may be better\n",
    "train_datagen = IDG(rescale= 1./255,\n",
    "                   rotation_range=40,\n",
    "                   width_shift_range=0.2,\n",
    "                   height_shift_range=0.2,\n",
    "                   shear_range=0.2,\n",
    "                   zoom_range=0.2,\n",
    "                   horizontal_flip=True,)\n",
    "\n",
    "test_datagen = IDG(rescale=1./255)\n",
    "\n",
    "train_generator = train_datagen.flow_from_directory(\n",
    "                    trainD,\n",
    "                    target_size=(150,150),\n",
    "                    batch_size =32,\n",
    "                    class_mode = \"binary\")\n",
    "\n",
    "validation_generator = test_datagen.flow_from_directory(\n",
    "                    validation,\n",
    "                    target_size=(150,150),\n",
    "                    batch_size =32,\n",
    "                    class_mode = \"binary\")"
   ]
  },
  {
   "cell_type": "code",
   "execution_count": 45,
   "metadata": {},
   "outputs": [],
   "source": [
    "model2 = models.Sequential()\n",
    "model2.add(layers.Conv2D(32, (3,3), activation = \"relu\", input_shape=(150, 150, 3)))\n",
    "model2.add(layers.MaxPooling2D((2, 2)))\n",
    "\n",
    "model2.add(layers.Conv2D(64, (3,3), activation = \"relu\"))\n",
    "model2.add(layers.MaxPooling2D((2, 2)))\n",
    "\n",
    "model2.add(layers.Conv2D(128, (3,3), activation = \"relu\"))\n",
    "model2.add(layers.MaxPooling2D((2, 2)))\n",
    "\n",
    "model2.add(layers.Conv2D(128, (3,3), activation = \"relu\"))\n",
    "model2.add(layers.MaxPooling2D((2, 2)))\n",
    "\n",
    "model2.add(layers.Flatten())\n",
    "\n",
    "model2.add(layers.Dense(512, activation = \"relu\"))\n",
    "model2.add(layers.Dense(1, activation = \"sigmoid\"))\n",
    "\n",
    "model2.compile(loss=\"binary_crossentropy\", optimizer = optimizers.RMSprop(learning_rate=1e-4), metrics=['acc'])"
   ]
  },
  {
   "cell_type": "code",
   "execution_count": 47,
   "metadata": {},
   "outputs": [
    {
     "name": "stdout",
     "output_type": "stream",
     "text": [
      "Epoch 1/50\n",
      "60/60 [==============================] - 62s 1s/step - loss: 0.6874 - acc: 0.5515 - val_loss: 0.6672 - val_acc: 0.6125\n",
      "Epoch 2/50\n",
      "60/60 [==============================] - 63s 1s/step - loss: 0.6734 - acc: 0.5856 - val_loss: 0.6887 - val_acc: 0.5437\n",
      "Epoch 3/50\n",
      "60/60 [==============================] - 63s 1s/step - loss: 0.6583 - acc: 0.6140 - val_loss: 0.7133 - val_acc: 0.5200\n",
      "Epoch 4/50\n",
      "60/60 [==============================] - 64s 1s/step - loss: 0.6532 - acc: 0.6129 - val_loss: 0.6312 - val_acc: 0.6212\n",
      "Epoch 5/50\n",
      "60/60 [==============================] - 64s 1s/step - loss: 0.6260 - acc: 0.6513 - val_loss: 0.6090 - val_acc: 0.6687\n",
      "Epoch 6/50\n",
      "60/60 [==============================] - 63s 1s/step - loss: 0.6218 - acc: 0.6418 - val_loss: 0.6513 - val_acc: 0.6162\n",
      "Epoch 7/50\n",
      "60/60 [==============================] - 64s 1s/step - loss: 0.6079 - acc: 0.6686 - val_loss: 0.6636 - val_acc: 0.5950\n",
      "Epoch 8/50\n",
      "60/60 [==============================] - 64s 1s/step - loss: 0.5984 - acc: 0.6702 - val_loss: 0.6174 - val_acc: 0.6550\n",
      "Epoch 9/50\n",
      "60/60 [==============================] - 64s 1s/step - loss: 0.5919 - acc: 0.6791 - val_loss: 0.5617 - val_acc: 0.7188\n",
      "Epoch 10/50\n",
      "60/60 [==============================] - 64s 1s/step - loss: 0.6004 - acc: 0.6744 - val_loss: 0.6132 - val_acc: 0.6587\n",
      "Epoch 11/50\n",
      "60/60 [==============================] - 64s 1s/step - loss: 0.5861 - acc: 0.6754 - val_loss: 0.5677 - val_acc: 0.6950\n",
      "Epoch 12/50\n",
      "60/60 [==============================] - 64s 1s/step - loss: 0.5660 - acc: 0.6949 - val_loss: 0.5602 - val_acc: 0.7075\n",
      "Epoch 13/50\n",
      "60/60 [==============================] - 63s 1s/step - loss: 0.5703 - acc: 0.7069 - val_loss: 0.5920 - val_acc: 0.6775\n",
      "Epoch 14/50\n",
      "60/60 [==============================] - 63s 1s/step - loss: 0.5844 - acc: 0.6917 - val_loss: 0.6269 - val_acc: 0.6513\n",
      "Epoch 15/50\n",
      "60/60 [==============================] - 63s 1s/step - loss: 0.5656 - acc: 0.7075 - val_loss: 0.5630 - val_acc: 0.7000\n",
      "Epoch 16/50\n",
      "60/60 [==============================] - 64s 1s/step - loss: 0.5775 - acc: 0.6864 - val_loss: 0.5336 - val_acc: 0.7325\n",
      "Epoch 17/50\n",
      "60/60 [==============================] - 63s 1s/step - loss: 0.5651 - acc: 0.7043 - val_loss: 0.5266 - val_acc: 0.7287\n",
      "Epoch 18/50\n",
      "60/60 [==============================] - 64s 1s/step - loss: 0.5686 - acc: 0.7059 - val_loss: 0.5305 - val_acc: 0.7225\n",
      "Epoch 19/50\n",
      "60/60 [==============================] - 69s 1s/step - loss: 0.5715 - acc: 0.7012 - val_loss: 0.5346 - val_acc: 0.7337\n",
      "Epoch 20/50\n",
      "60/60 [==============================] - 66s 1s/step - loss: 0.5585 - acc: 0.7117 - val_loss: 0.5517 - val_acc: 0.7025\n",
      "Epoch 21/50\n",
      "60/60 [==============================] - 66s 1s/step - loss: 0.5505 - acc: 0.7111 - val_loss: 0.5285 - val_acc: 0.7262\n",
      "Epoch 22/50\n",
      "60/60 [==============================] - 66s 1s/step - loss: 0.5469 - acc: 0.7264 - val_loss: 0.5088 - val_acc: 0.7387\n",
      "Epoch 23/50\n",
      "60/60 [==============================] - 66s 1s/step - loss: 0.5533 - acc: 0.7169 - val_loss: 0.5183 - val_acc: 0.7275\n",
      "Epoch 24/50\n",
      "60/60 [==============================] - 66s 1s/step - loss: 0.5355 - acc: 0.7227 - val_loss: 0.5438 - val_acc: 0.7125\n",
      "Epoch 25/50\n",
      "60/60 [==============================] - 66s 1s/step - loss: 0.5399 - acc: 0.7290 - val_loss: 0.5218 - val_acc: 0.7212\n",
      "Epoch 26/50\n",
      "60/60 [==============================] - 68s 1s/step - loss: 0.5376 - acc: 0.7369 - val_loss: 0.5113 - val_acc: 0.7387\n",
      "Epoch 27/50\n",
      "60/60 [==============================] - 66s 1s/step - loss: 0.5310 - acc: 0.7253 - val_loss: 0.5467 - val_acc: 0.7200\n",
      "Epoch 28/50\n",
      "60/60 [==============================] - 66s 1s/step - loss: 0.5435 - acc: 0.7269 - val_loss: 0.5011 - val_acc: 0.7600\n",
      "Epoch 29/50\n",
      "60/60 [==============================] - 66s 1s/step - loss: 0.5195 - acc: 0.7421 - val_loss: 0.5022 - val_acc: 0.7425\n",
      "Epoch 30/50\n",
      "60/60 [==============================] - 66s 1s/step - loss: 0.5203 - acc: 0.7495 - val_loss: 0.5331 - val_acc: 0.7287\n",
      "Epoch 31/50\n",
      "60/60 [==============================] - 67s 1s/step - loss: 0.5103 - acc: 0.7463 - val_loss: 0.5269 - val_acc: 0.7387\n",
      "Epoch 32/50\n",
      "60/60 [==============================] - 66s 1s/step - loss: 0.5248 - acc: 0.7295 - val_loss: 0.5255 - val_acc: 0.7450\n",
      "Epoch 33/50\n",
      "60/60 [==============================] - 66s 1s/step - loss: 0.5229 - acc: 0.7390 - val_loss: 0.5214 - val_acc: 0.7325\n",
      "Epoch 34/50\n",
      "60/60 [==============================] - 66s 1s/step - loss: 0.5015 - acc: 0.7631 - val_loss: 0.4937 - val_acc: 0.7625\n",
      "Epoch 35/50\n",
      "60/60 [==============================] - 67s 1s/step - loss: 0.5002 - acc: 0.7411 - val_loss: 0.4873 - val_acc: 0.7638\n",
      "Epoch 36/50\n",
      "60/60 [==============================] - 66s 1s/step - loss: 0.4985 - acc: 0.7595 - val_loss: 0.5059 - val_acc: 0.7588\n",
      "Epoch 37/50\n",
      "60/60 [==============================] - 65s 1s/step - loss: 0.5170 - acc: 0.7442 - val_loss: 0.5185 - val_acc: 0.7400\n",
      "Epoch 38/50\n",
      "60/60 [==============================] - 64s 1s/step - loss: 0.4934 - acc: 0.7542 - val_loss: 0.4852 - val_acc: 0.7675\n",
      "Epoch 39/50\n",
      "60/60 [==============================] - 65s 1s/step - loss: 0.4972 - acc: 0.7568 - val_loss: 0.4776 - val_acc: 0.7750\n",
      "Epoch 40/50\n",
      "60/60 [==============================] - 64s 1s/step - loss: 0.4864 - acc: 0.7663 - val_loss: 0.4941 - val_acc: 0.7500\n",
      "Epoch 41/50\n",
      "60/60 [==============================] - 64s 1s/step - loss: 0.4723 - acc: 0.7710 - val_loss: 0.4736 - val_acc: 0.7688\n",
      "Epoch 42/50\n",
      "60/60 [==============================] - 64s 1s/step - loss: 0.5053 - acc: 0.7526 - val_loss: 0.4742 - val_acc: 0.7788\n",
      "Epoch 43/50\n",
      "60/60 [==============================] - 64s 1s/step - loss: 0.4942 - acc: 0.7574 - val_loss: 0.4801 - val_acc: 0.7812\n",
      "Epoch 44/50\n",
      "60/60 [==============================] - 65s 1s/step - loss: 0.4874 - acc: 0.7553 - val_loss: 0.4932 - val_acc: 0.7675\n",
      "Epoch 45/50\n",
      "60/60 [==============================] - 65s 1s/step - loss: 0.4729 - acc: 0.7742 - val_loss: 0.4844 - val_acc: 0.7638\n",
      "Epoch 46/50\n",
      "60/60 [==============================] - 65s 1s/step - loss: 0.4792 - acc: 0.7679 - val_loss: 0.4607 - val_acc: 0.7788\n",
      "Epoch 47/50\n",
      "60/60 [==============================] - 65s 1s/step - loss: 0.4883 - acc: 0.7605 - val_loss: 0.4682 - val_acc: 0.7763\n",
      "Epoch 48/50\n",
      "60/60 [==============================] - 66s 1s/step - loss: 0.4677 - acc: 0.7784 - val_loss: 0.4748 - val_acc: 0.7738\n",
      "Epoch 49/50\n",
      "60/60 [==============================] - 66s 1s/step - loss: 0.4822 - acc: 0.7694 - val_loss: 0.4676 - val_acc: 0.7800\n",
      "Epoch 50/50\n",
      "60/60 [==============================] - 67s 1s/step - loss: 0.4734 - acc: 0.7794 - val_loss: 0.5356 - val_acc: 0.7412\n"
     ]
    }
   ],
   "source": [
    "history2 = model2.fit(\n",
    "            train_generator,\n",
    "            steps_per_epoch = 60,\n",
    "            epochs=50,\n",
    "            validation_data=validation_generator,\n",
    "            validation_steps = 25)"
   ]
  },
  {
   "cell_type": "code",
   "execution_count": 48,
   "metadata": {},
   "outputs": [],
   "source": [
    "model2.save(\"project_cnn.h5\")"
   ]
  },
  {
   "cell_type": "code",
   "execution_count": 49,
   "metadata": {},
   "outputs": [
    {
     "data": {
      "text/plain": [
       "<function matplotlib.pyplot.show(*args, **kw)>"
      ]
     },
     "execution_count": 49,
     "metadata": {},
     "output_type": "execute_result"
    },
    {
     "data": {
      "image/png": "[encoded data removed]",
      "text/plain": [
       "<Figure size 576x360 with 1 Axes>"
      ]
     },
     "metadata": {
      "needs_background": "light"
     },
     "output_type": "display_data"
    }
   ],
   "source": [
    "pd.DataFrame(history2.history).plot(figsize=(8,5))\n",
    "plp.grid(True)\n",
    "plp.gca().set_ylim(0, 1)\n",
    "plp.show"
   ]
  },
  {
   "cell_type": "markdown",
   "metadata": {},
   "source": [
    "In this last case, we can see better results in Validation Accuracy, this through the images transformation based to maintain a better algorithm capable of identify in better way each image."
   ]
  }
 ],
 "metadata": {
  "kernelspec": {
   "display_name": "Python 3",
   "language": "python",
   "name": "python3"
  },
  "language_info": {
   "codemirror_mode": {
    "name": "ipython",
    "version": 3
   },
   "file_extension": ".py",
   "mimetype": "text/x-python",
   "name": "python",
   "nbconvert_exporter": "python",
   "pygments_lexer": "ipython3",
   "version": "3.8.3"
  }
 },
 "nbformat": 4,
 "nbformat_minor": 4
}
